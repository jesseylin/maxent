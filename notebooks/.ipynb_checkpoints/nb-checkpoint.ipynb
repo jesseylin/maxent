{
 "cells": [
  {
   "cell_type": "markdown",
   "id": "c9c66231-d9cb-4d79-8251-15f893c30d57",
   "metadata": {},
   "source": [
    "# Ising Model preliminaries\n",
    "\n",
    "The 2D Ising model is a model from statistical physics which describes a discrete lattice of particles with magnetic spin $ \\sigma_i $ of a site $ i $ taking values in $\\{\\pm 1\\}$, i.e., either up or down. The energy of the lattice is given by\n",
    "\n",
    "$$ E(\\{\\sigma_i\\}) = -\\sum_{i,j} J_{ij} \\sigma_i \\sigma_j $$\n",
    "\n",
    "with couplings $ J_{ij} \\geq 0 $ defined such that $ J_{ij} = J $ if sites $i, j$ are neighbors on the lattice and $0$ otherwise. \n",
    "\n",
    "Physically, for a given temperature, the lattice spins equilibriate to a Boltzmann-Gibbs distribution given by\n",
    "\n",
    "$$ \\rho(\\{\\sigma_i\\}) = Z^{-1} e^{-E(\\{\\sigma_i\\})/T} $$\n",
    "\n",
    "where $ Z $ is the normalization factor and we choose a unit system where $ k_B $ is dimensionless.\n",
    "\n",
    "The following notebook will guide you through running a pre-written simulation code which generates samples from this distribution."
   ]
  },
  {
   "cell_type": "code",
   "execution_count": 9,
   "id": "dc34a6ab-fb62-4b06-aae9-fba85a48d6f0",
   "metadata": {},
   "outputs": [],
   "source": [
    "import sys\n",
    "import os\n",
    "sys.path.append(os.path.abspath(\"..\"))\n",
    "\n",
    "from src.ising import init_lattice, metropolis_step, run_ising_model, critical_temperature, plot_lattice"
   ]
  },
  {
   "cell_type": "code",
   "execution_count": 10,
   "id": "7f74480d-be0b-46cd-a0d6-fa3b259f0807",
   "metadata": {
    "scrolled": true
   },
   "outputs": [
    {
     "data": {
      "image/png": "[encoded data removed]",
      "text/plain": [
       "<Figure size 640x480 with 1 Axes>"
      ]
     },
     "metadata": {},
     "output_type": "display_data"
    }
   ],
   "source": [
    "N = 50  # Lattice size\n",
    "J = 1.0  # Interaction strength (ferromagnetic if positive)\n",
    "T = 2.0  # Temperature\n",
    "steps = 10000  # Number of Metropolis steps\n",
    "\n",
    "# Run simulation\n",
    "lattice = run_ising_model(N=N, J=J, T=T, steps=steps)\n",
    "\n",
    "# Plot the final configuration\n",
    "plot_lattice(lattice)"
   ]
  },
  {
   "cell_type": "markdown",
   "id": "1e3103c6-e448-48d3-bd01-722299237a88",
   "metadata": {},
   "source": [
    "One can compute exactly the \"critical temperature\" $ T_c $ which is where the Ising model spontaneously changes from a disordered to an ordered macroscopic state"
   ]
  },
  {
   "cell_type": "code",
   "execution_count": 11,
   "id": "37a31d6b-2106-4c66-a272-99f4cb0eb68d",
   "metadata": {},
   "outputs": [
    {
     "data": {
      "text/plain": [
       "np.float64(2.269185314213022)"
      ]
     },
     "execution_count": 11,
     "metadata": {},
     "output_type": "execute_result"
    }
   ],
   "source": [
    "critical_temperature(J)"
   ]
  },
  {
   "cell_type": "markdown",
   "id": "8b253f18-bf37-4389-93ec-8c2367ff039e",
   "metadata": {},
   "source": [
    "To begin, let's ensure we are comfortable estimating statistics from samples of the Ising model. In particular, consider\n",
    "\n",
    "1. Magnetization $ m = \\frac{1}{N^2} \\langle \\sum_i \\sigma_i \\rangle $\n",
    "2. 2-point function $ G(r) = \\frac{1}{N^2} \\langle \\sum_{i,r} \\sigma_i \\sigma_{i+r} \\rangle $\n",
    "\n",
    "Our first task is to check the following:\n",
    "\n",
    "- For a given temperature $T$, we simulate for $\\tau$ time steps. We need to ensure $\\tau$ is long enough that the model is equilibriated. The simple way to do this is to check that statistical observables like $ m $ as a function of $\\tau$ are \"stable\" for a sufficiently high chosen $ \\tau $, e.g., $\\tau = 10000$.\n",
    "- Plot $ m $ and $ G(r) $ as a function of $T$.\n",
    "\n",
    "NOTE: For now, only the combination $J/T$ is relevant, so we may as well set $J=1$ and only look at our observables as functions of $T$."
   ]
  }
 ],
 "metadata": {
  "kernelspec": {
   "display_name": "Python 3 (ipykernel)",
   "language": "python",
   "name": "python3"
  },
  "language_info": {
   "codemirror_mode": {
    "name": "ipython",
    "version": 3
   },
   "file_extension": ".py",
   "mimetype": "text/x-python",
   "name": "python",
   "nbconvert_exporter": "python",
   "pygments_lexer": "ipython3",
   "version": "3.12.8"
  }
 },
 "nbformat": 4,
 "nbformat_minor": 5
}
